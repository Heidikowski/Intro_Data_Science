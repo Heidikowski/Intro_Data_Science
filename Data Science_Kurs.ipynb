{
 "cells": [
  {
   "cell_type": "code",
   "execution_count": 3,
   "metadata": {},
   "outputs": [
    {
     "name": "stdout",
     "output_type": "stream",
     "text": [
      "4.410934744285714\n"
     ]
    }
   ],
   "source": [
    "# Die gegebenen Zahlen\n",
    "zahlen = [1, 2, 3, 4, 5, 6, 9.87654321]\n",
    "\n",
    "# Mittelwert berechnen\n",
    "mittelwert = sum(zahlen) / len(zahlen)\n",
    "\n",
    "# Ergebnis anzeigen\n",
    "print(mittelwert)\n"
   ]
  },
  {
   "cell_type": "code",
   "execution_count": 2,
   "metadata": {},
   "outputs": [
    {
     "name": "stdout",
     "output_type": "stream",
     "text": [
      "        Datum  Bewoelkung  Temperatur  Windgeschwindigkeit  Wettercode\n",
      "0  2012-01-01         8.0      9.8250                   14        58.0\n",
      "1  2012-01-02         7.0      7.4375                   12         NaN\n",
      "2  2012-01-03         8.0      5.5375                   18        63.0\n",
      "3  2012-01-04         4.0      5.6875                   19        80.0\n",
      "4  2012-01-05         6.0      5.3000                   23        80.0\n"
     ]
    }
   ],
   "source": [
    "import pandas as pd\n",
    "\n",
    "# Lade die CSV-Datei aus deinem lokalen Verzeichnis\n",
    "wetter = pd.read_csv('wetter.csv')\n",
    "\n",
    "# Ausgabe der ersten paar Zeilen des Datensatzes\n",
    "print(wetter.head())\n"
   ]
  },
  {
   "cell_type": "code",
   "execution_count": 3,
   "metadata": {},
   "outputs": [
    {
     "name": "stdout",
     "output_type": "stream",
     "text": [
      "12.099585595540177\n"
     ]
    }
   ],
   "source": [
    "durchschnittstemperatur = wetter['Temperatur'].mean()\n",
    "print (durchschnittstemperatur)"
   ]
  },
  {
   "cell_type": "code",
   "execution_count": 4,
   "metadata": {},
   "outputs": [
    {
     "name": "stdout",
     "output_type": "stream",
     "text": [
      "Die Durchschnittstemperatur im Juni beträgt: 18.48 °C\n"
     ]
    }
   ],
   "source": [
    "import pandas as pd\n",
    "\n",
    "# Umwandlung der 'Datum' Spalte in das Datumsformat\n",
    "wetter['Datum'] = pd.to_datetime(wetter['Datum'])\n",
    "\n",
    "# Den Monat aus der 'Datum' Spalte extrahieren\n",
    "wetter['Monat'] = wetter['Datum'].dt.month\n",
    "\n",
    "# Filtern der Daten für Juni (Monat == 6)\n",
    "wetter_juni = wetter[wetter['Monat'] == 6]\n",
    "\n",
    "# Durchschnittstemperatur im Juni berechnen\n",
    "durchschnittstemperatur_juni = wetter_juni['Temperatur'].mean()\n",
    "\n",
    "# Ausgabe des Ergebnisses\n",
    "print(f\"Die Durchschnittstemperatur im Juni beträgt: {durchschnittstemperatur_juni:.2f} °C\")\n"
   ]
  },
  {
   "cell_type": "code",
   "execution_count": 5,
   "metadata": {},
   "outputs": [
    {
     "name": "stdout",
     "output_type": "stream",
     "text": [
      "Durchschnittstemperatur im Mai: 15.24 °C\n",
      "Durchschnittstemperatur im Juli: 20.75 °C\n"
     ]
    },
    {
     "ename": "NameError",
     "evalue": "name 'stats' is not defined",
     "output_type": "error",
     "traceback": [
      "\u001b[0;31m---------------------------------------------------------------------------\u001b[0m",
      "\u001b[0;31mNameError\u001b[0m                                 Traceback (most recent call last)",
      "Cell \u001b[0;32mIn[5], line 24\u001b[0m\n\u001b[1;32m     19\u001b[0m \u001b[38;5;28mprint\u001b[39m(\u001b[38;5;124mf\u001b[39m\u001b[38;5;124m\"\u001b[39m\u001b[38;5;124mDurchschnittstemperatur im Juli: \u001b[39m\u001b[38;5;132;01m{\u001b[39;00mdurchschnitt_juli\u001b[38;5;132;01m:\u001b[39;00m\u001b[38;5;124m.2f\u001b[39m\u001b[38;5;132;01m}\u001b[39;00m\u001b[38;5;124m °C\u001b[39m\u001b[38;5;124m\"\u001b[39m)\n\u001b[1;32m     21\u001b[0m \u001b[38;5;66;03m# Schritt 4: Durchführung des t-Tests, um zu überprüfen, ob der Unterschied signifikant ist\u001b[39;00m\n\u001b[1;32m     22\u001b[0m \u001b[38;5;66;03m# Annahme: Wir testen auf einen zweiseitigen Test (ob die Temperaturen sich signifikant unterscheiden)\u001b[39;00m\n\u001b[0;32m---> 24\u001b[0m t_stat, p_value \u001b[38;5;241m=\u001b[39m \u001b[43mstats\u001b[49m\u001b[38;5;241m.\u001b[39mttest_ind(wetter_mai[\u001b[38;5;124m'\u001b[39m\u001b[38;5;124mTemperatur\u001b[39m\u001b[38;5;124m'\u001b[39m]\u001b[38;5;241m.\u001b[39mdropna(), wetter_juli[\u001b[38;5;124m'\u001b[39m\u001b[38;5;124mTemperatur\u001b[39m\u001b[38;5;124m'\u001b[39m]\u001b[38;5;241m.\u001b[39mdropna())\n\u001b[1;32m     26\u001b[0m \u001b[38;5;66;03m# Ausgabe des t-Test-Ergebnisses\u001b[39;00m\n\u001b[1;32m     27\u001b[0m \u001b[38;5;28mprint\u001b[39m(\u001b[38;5;124mf\u001b[39m\u001b[38;5;124m\"\u001b[39m\u001b[38;5;124mt-Statistik: \u001b[39m\u001b[38;5;132;01m{\u001b[39;00mt_stat\u001b[38;5;132;01m:\u001b[39;00m\u001b[38;5;124m.3f\u001b[39m\u001b[38;5;132;01m}\u001b[39;00m\u001b[38;5;124m\"\u001b[39m)\n",
      "\u001b[0;31mNameError\u001b[0m: name 'stats' is not defined"
     ]
    }
   ],
   "source": [
    "import pandas as pd\n",
    "\n",
    "# Angenommen, die Wetterdaten wurden bereits als DataFrame 'wetter' geladen und Datum umgewandelt\n",
    "\n",
    "# Schritt 1: Den Monat aus der 'Datum' Spalte extrahieren, falls noch nicht geschehen\n",
    "wetter['Datum'] = pd.to_datetime(wetter['Datum'])\n",
    "wetter['Monat'] = wetter['Datum'].dt.month\n",
    "\n",
    "# Schritt 2: Filtern der Daten für Mai (Monat 5) und Juli (Monat 7)\n",
    "wetter_mai = wetter[wetter['Monat'] == 5]\n",
    "wetter_juli = wetter[wetter['Monat'] == 7]\n",
    "\n",
    "# Schritt 3: Berechnung der Durchschnittstemperaturen für Mai und Juli\n",
    "durchschnitt_mai = wetter_mai['Temperatur'].mean()\n",
    "durchschnitt_juli = wetter_juli['Temperatur'].mean()\n",
    "\n",
    "# Ausgabe der Durchschnittstemperaturen\n",
    "print(f\"Durchschnittstemperatur im Mai: {durchschnitt_mai:.2f} °C\")\n",
    "print(f\"Durchschnittstemperatur im Juli: {durchschnitt_juli:.2f} °C\")\n",
    "\n",
    "# Schritt 4: Durchführung des t-Tests, um zu überprüfen, ob der Unterschied signifikant ist\n",
    "# Annahme: Wir testen auf einen zweiseitigen Test (ob die Temperaturen sich signifikant unterscheiden)\n",
    "\n",
    "t_stat, p_value = stats.ttest_ind(wetter_mai['Temperatur'].dropna(), wetter_juli['Temperatur'].dropna())\n",
    "\n",
    "# Ausgabe des t-Test-Ergebnisses\n",
    "print(f\"t-Statistik: {t_stat:.3f}\")\n",
    "print(f\"p-Wert: {p_value:.3f}\")\n",
    "\n",
    "# Schritt 5: Interpretation des p-Werts\n",
    "alpha = 0.05  # Signifikanzniveau\n",
    "if p_value < alpha:\n",
    "    print(\"Der Unterschied in den Durchschnittstemperaturen zwischen Mai und Juli ist signifikant.\")\n",
    "else:\n",
    "    print(\"Der Unterschied in den Durchschnittstemperaturen zwischen Mai und Juli ist nicht signifikant.\")\n"
   ]
  },
  {
   "cell_type": "code",
   "execution_count": 6,
   "metadata": {},
   "outputs": [
    {
     "name": "stdout",
     "output_type": "stream",
     "text": [
      "       Datum  Warengruppe      Umsatz\n",
      "0 2013-07-01            1  148.828353\n",
      "1 2013-07-02            1  159.793757\n",
      "2 2013-07-03            1  111.885594\n",
      "3 2013-07-04            1  168.864941\n",
      "4 2013-07-05            1  171.280754\n"
     ]
    }
   ],
   "source": [
    "import pandas as pd\n",
    "\n",
    "# Lade die CSV-Datei aus deinem lokalen Verzeichnis\n",
    "umsatz = pd.read_csv('umsatzdaten_gekuerzt.csv')\n",
    "\n",
    "umsatz['Datum'] = pd.to_datetime(umsatz['Datum'])\n",
    "\n",
    "# Ausgabe der ersten paar Zeilen des Datensatzes\n",
    "print(umsatz.head())"
   ]
  },
  {
   "cell_type": "code",
   "execution_count": 7,
   "metadata": {},
   "outputs": [
    {
     "name": "stdout",
     "output_type": "stream",
     "text": [
      "       Datum  KielerWoche\n",
      "0 2012-06-16            1\n",
      "1 2012-06-17            1\n",
      "2 2012-06-18            1\n",
      "3 2012-06-19            1\n",
      "4 2012-06-20            1\n"
     ]
    }
   ],
   "source": [
    "import pandas as pd\n",
    "\n",
    "# Lade die CSV-Datei aus deinem lokalen Verzeichnis\n",
    "kiwo = pd.read_csv('kiwo.csv')\n",
    "\n",
    "kiwo['Datum'] = pd.to_datetime(kiwo['Datum'])\n",
    "\n",
    "# Ausgabe der ersten paar Zeilen des Datensatzes\n",
    "print(kiwo.head())"
   ]
  },
  {
   "cell_type": "code",
   "execution_count": 8,
   "metadata": {},
   "outputs": [
    {
     "name": "stderr",
     "output_type": "stream",
     "text": [
      "/tmp/ipykernel_2341/4162030954.py:22: FutureWarning: \n",
      "\n",
      "Passing `palette` without assigning `hue` is deprecated and will be removed in v0.14.0. Assign the `x` variable to `hue` and set `legend=False` for the same effect.\n",
      "\n",
      "  sns.barplot(x=durchschnitt_umsatz.index, y=durchschnitt_umsatz.values, palette='Blues_d')\n"
     ]
    },
    {
     "data": {
      "image/png": "[encoded data removed]",
      "text/plain": [
       "<Figure size 1000x600 with 1 Axes>"
      ]
     },
     "metadata": {},
     "output_type": "display_data"
    }
   ],
   "source": [
    "import pandas as pd\n",
    "import matplotlib.pyplot as plt\n",
    "import seaborn as sns\n",
    "\n",
    "# Angenommen, der 'umsatz' DataFrame wurde bereits geladen\n",
    "\n",
    "# Schritt 1: 'Datum' in das Datumsformat umwandeln\n",
    "umsatz['Datum'] = pd.to_datetime(umsatz['Datum'])\n",
    "\n",
    "# Schritt 2: Wochentag extrahieren (0 = Montag, 1 = Dienstag, ..., 6 = Sonntag)\n",
    "umsatz['Wochentag'] = umsatz['Datum'].dt.weekday\n",
    "\n",
    "# Schritt 3: Durchschnittlichen Umsatz pro Wochentag berechnen\n",
    "durchschnitt_umsatz = umsatz.groupby('Wochentag')['Umsatz'].mean()\n",
    "\n",
    "# Schritt 4: Wochentage als Namen hinzufügen, um das Diagramm leserlich zu machen\n",
    "wochentage = ['Montag', 'Dienstag', 'Mittwoch', 'Donnerstag', 'Freitag', 'Samstag', 'Sonntag']\n",
    "durchschnitt_umsatz.index = wochentage\n",
    "\n",
    "# Schritt 5: Visualisierung des durchschnittlichen Umsatzes pro Wochentag\n",
    "plt.figure(figsize=(10, 6))\n",
    "sns.barplot(x=durchschnitt_umsatz.index, y=durchschnitt_umsatz.values, palette='Blues_d')\n",
    "\n",
    "# Titel und Achsenbeschriftungen\n",
    "plt.title('Durchschnittlicher Umsatz pro Wochentag', fontsize=16)\n",
    "plt.xlabel('Wochentag', fontsize=12)\n",
    "plt.ylabel('Durchschnittlicher Umsatz (€)', fontsize=12)\n",
    "\n",
    "# Diagramm anzeigen\n",
    "plt.show()\n"
   ]
  },
  {
   "cell_type": "code",
   "execution_count": 9,
   "metadata": {},
   "outputs": [
    {
     "data": {
      "image/png": "[encoded data removed]",
      "text/plain": [
       "<Figure size 1000x600 with 1 Axes>"
      ]
     },
     "metadata": {},
     "output_type": "display_data"
    }
   ],
   "source": [
    "import pandas as pd\n",
    "import seaborn as sns\n",
    "import matplotlib.pyplot as plt\n",
    "import numpy as np\n",
    "import scipy.stats as stats\n",
    "\n",
    "# Konvertiere die 'Datum'-Spalte in das Datumsformat\n",
    "umsatz['Datum'] = pd.to_datetime(umsatz['Datum'])\n",
    "\n",
    "# Füge die Wochentag-Spalte hinzu\n",
    "umsatz['Wochentag'] = umsatz['Datum'].dt.day_name()\n",
    "\n",
    "# Definiere die Wochentagsreihenfolge\n",
    "order = ['Monday', 'Tuesday', 'Wednesday', 'Thursday', 'Friday', 'Saturday', 'Sunday']\n",
    "\n",
    "# Berechne den durchschnittlichen Umsatz und das Konfidenzintervall pro Wochentag\n",
    "umsatz_summary = umsatz.groupby('Wochentag')['Umsatz'].agg(['mean', 'std', 'count']).reindex(order)\n",
    "umsatz_summary['sem'] = umsatz_summary['std'] / np.sqrt(umsatz_summary['count'])  # Standardfehler\n",
    "umsatz_summary['ci'] = umsatz_summary['sem'] * stats.t.ppf((1 + 0.95) / 2, umsatz_summary['count'] - 1)  # 95% Konfidenzintervall\n",
    "\n",
    "# Erstelle das Balkendiagramm mit einheitlicher Farbe\n",
    "plt.figure(figsize=(10, 6))\n",
    "sns.barplot(\n",
    "    x=umsatz_summary.index,\n",
    "    y=umsatz_summary['mean'],\n",
    "    yerr=umsatz_summary['ci'],\n",
    "    order=order,\n",
    "    color='skyblue'  # Einheitliche Farbe für alle Balken\n",
    ")\n",
    "plt.xlabel('Wochentag')\n",
    "plt.ylabel('Durchschnittlicher Umsatz')\n",
    "plt.title('Durchschnittlicher Umsatz pro Wochentag mit Konfidenzintervallen')\n",
    "plt.xticks(rotation=45)\n",
    "plt.tight_layout()\n",
    "plt.show()\n",
    "\n",
    "\n"
   ]
  },
  {
   "cell_type": "code",
   "execution_count": 11,
   "metadata": {},
   "outputs": [
    {
     "name": "stdout",
     "output_type": "stream",
     "text": [
      "       Datum  Warengruppe      Umsatz  Wochentag Kategorie\n",
      "0 2013-07-01            1  148.828353     Monday      Brot\n",
      "1 2013-07-02            1  159.793757    Tuesday      Brot\n",
      "2 2013-07-03            1  111.885594  Wednesday      Brot\n",
      "3 2013-07-04            1  168.864941   Thursday      Brot\n",
      "4 2013-07-05            1  171.280754     Friday      Brot\n"
     ]
    }
   ],
   "source": [
    "# Zuordnung von Warengruppen zu Kategorien\n",
    "kategorie_mapping = {\n",
    "    1: 'Brot',\n",
    "    2: 'Broetchen',\n",
    "    3: 'Croissant',\n",
    "    4: 'Konditorei',\n",
    "    5: 'Kuchen',\n",
    "    6: 'Saisonbrot'\n",
    "}\n",
    "\n",
    "# Neue Spalte 'Kategorie' hinzufügen, basierend auf der Spalte 'Warengruppe'\n",
    "umsatz['Kategorie'] = umsatz['Warengruppe'].map(kategorie_mapping)\n",
    "\n",
    "# Überprüfen, ob die Zuordnung korrekt durchgeführt wurde\n",
    "print(umsatz.head())\n"
   ]
  },
  {
   "cell_type": "code",
   "execution_count": 12,
   "metadata": {},
   "outputs": [
    {
     "name": "stdout",
     "output_type": "stream",
     "text": [
      "       Datum  Bewoelkung  Temperatur  Windgeschwindigkeit  Wettercode  Monat\n",
      "0 2012-01-01         8.0      9.8250                   14        58.0      1\n",
      "1 2012-01-02         7.0      7.4375                   12         NaN      1\n",
      "2 2012-01-03         8.0      5.5375                   18        63.0      1\n",
      "3 2012-01-04         4.0      5.6875                   19        80.0      1\n",
      "4 2012-01-05         6.0      5.3000                   23        80.0      1\n"
     ]
    }
   ],
   "source": [
    "print(wetter.head())"
   ]
  },
  {
   "cell_type": "code",
   "execution_count": 13,
   "metadata": {},
   "outputs": [
    {
     "name": "stdout",
     "output_type": "stream",
     "text": [
      "       Datum  Bewoelkung  Temperatur  Windgeschwindigkeit  Wettercode  Monat  \\\n",
      "0 2012-01-01         8.0      9.8250                   14        58.0      1   \n",
      "1 2012-01-02         7.0      7.4375                   12         NaN      1   \n",
      "2 2012-01-03         8.0      5.5375                   18        63.0      1   \n",
      "3 2012-01-04         4.0      5.6875                   19        80.0      1   \n",
      "4 2012-01-05         6.0      5.3000                   23        80.0      1   \n",
      "\n",
      "                                  Wetterbedingungen  \n",
      "0          Leichter Spruehregen mit Regen vermischt  \n",
      "1                                               NaN  \n",
      "2  Durchgehender maessiger nicht gefrierender Regen  \n",
      "3                             Leichter Regenschauer  \n",
      "4                             Leichter Regenschauer  \n"
     ]
    }
   ],
   "source": [
    "import pandas as pd\n",
    "\n",
    "# CSV-Datei mit Wettercodes und deren Beschreibung einlesen\n",
    "wettercodes_df = pd.read_csv('wettercodes.csv')  # Datei anpassen\n",
    "\n",
    "# Erstelle ein Dictionary für das Mapping\n",
    "wettercode_mapping = dict(zip(wettercodes_df['Wettercode'], wettercodes_df['Beschreibung']))\n",
    "\n",
    "# Neue Spalte 'Wetterbedingungen' hinzufügen, basierend auf dem Mapping\n",
    "wetter['Wetterbedingungen'] = wetter['Wettercode'].map(wettercode_mapping)\n",
    "\n",
    "# Ausgabe überprüfen\n",
    "print(wetter.head())\n"
   ]
  },
  {
   "cell_type": "code",
   "execution_count": 14,
   "metadata": {},
   "outputs": [],
   "source": [
    "# Importiere pandas\n",
    "import pandas as pd\n",
    "\n",
    "# Speichern als CSV-Datei\n",
    "wetter.to_csv('wetter.csv', index=False)\n"
   ]
  },
  {
   "cell_type": "code",
   "execution_count": 15,
   "metadata": {},
   "outputs": [],
   "source": [
    "# Laden der CSV-Datei\n",
    "wetter = pd.read_csv('wetter.csv')\n"
   ]
  },
  {
   "cell_type": "code",
   "execution_count": 7,
   "metadata": {},
   "outputs": [
    {
     "name": "stdout",
     "output_type": "stream",
     "text": [
      "                            OLS Regression Results                            \n",
      "==============================================================================\n",
      "Dep. Variable:                 Umsatz   R-squared:                       0.050\n",
      "Model:                            OLS   Adj. R-squared:                  0.050\n",
      "Method:                 Least Squares   F-statistic:                     487.2\n",
      "Date:                Thu, 28 Nov 2024   Prob (F-statistic):          2.77e-105\n",
      "Time:                        16:19:08   Log-Likelihood:                -59330.\n",
      "No. Observations:                9318   AIC:                         1.187e+05\n",
      "Df Residuals:                    9316   BIC:                         1.187e+05\n",
      "Df Model:                           1                                         \n",
      "Covariance Type:            nonrobust                                         \n",
      "==============================================================================\n",
      "                 coef    std err          t      P>|t|      [0.025      0.975]\n",
      "------------------------------------------------------------------------------\n",
      "Intercept    153.1775      2.834     54.055      0.000     147.623     158.732\n",
      "Temperatur     4.4565      0.202     22.073      0.000       4.061       4.852\n",
      "==============================================================================\n",
      "Omnibus:                     3943.152   Durbin-Watson:                   2.383\n",
      "Prob(Omnibus):                  0.000   Jarque-Bera (JB):            36463.361\n",
      "Skew:                           1.785   Prob(JB):                         0.00\n",
      "Kurtosis:                      12.010   Cond. No.                         27.3\n",
      "==============================================================================\n",
      "\n",
      "Notes:\n",
      "[1] Standard Errors assume that the covariance matrix of the errors is correctly specified.\n"
     ]
    }
   ],
   "source": [
    "import pandas as pd\n",
    "import statsmodels.formula.api as smf\n",
    "\n",
    "umsatz_gesamt = pd.read_csv('umsatz_gesamt.csv', sep=';')\n",
    "\n",
    "\n",
    "# Fit the linear model\n",
    "mod = smf.ols('Umsatz ~ Temperatur', data=umsatz_gesamt).fit()\n",
    "# Print the summary\n",
    "print(mod.summary())"
   ]
  },
  {
   "cell_type": "code",
   "execution_count": 8,
   "metadata": {},
   "outputs": [
    {
     "name": "stdout",
     "output_type": "stream",
     "text": [
      "                            OLS Regression Results                            \n",
      "==============================================================================\n",
      "Dep. Variable:                 Umsatz   R-squared:                       0.046\n",
      "Model:                            OLS   Adj. R-squared:                  0.046\n",
      "Method:                 Least Squares   F-statistic:                     452.7\n",
      "Date:                Thu, 28 Nov 2024   Prob (F-statistic):           3.94e-98\n",
      "Time:                        16:22:24   Log-Likelihood:                -59347.\n",
      "No. Observations:                9318   AIC:                         1.187e+05\n",
      "Df Residuals:                    9316   BIC:                         1.187e+05\n",
      "Df Model:                           1                                         \n",
      "Covariance Type:            nonrobust                                         \n",
      "==============================================================================\n",
      "                 coef    std err          t      P>|t|      [0.025      0.975]\n",
      "------------------------------------------------------------------------------\n",
      "Intercept    138.5781      3.524     39.329      0.000     131.671     145.485\n",
      "Temp_Bin      32.8491      1.544     21.277      0.000      29.823      35.876\n",
      "==============================================================================\n",
      "Omnibus:                     3953.709   Durbin-Watson:                   2.376\n",
      "Prob(Omnibus):                  0.000   Jarque-Bera (JB):            36424.027\n",
      "Skew:                           1.792   Prob(JB):                         0.00\n",
      "Kurtosis:                      11.999   Cond. No.                         6.40\n",
      "==============================================================================\n",
      "\n",
      "Notes:\n",
      "[1] Standard Errors assume that the covariance matrix of the errors is correctly specified.\n"
     ]
    }
   ],
   "source": [
    "import pandas as pd\n",
    "import statsmodels.formula.api as smf\n",
    "\n",
    "# Daten einlesen\n",
    "umsatz_gesamt = pd.read_csv('umsatz_gesamt.csv', sep=';')\n",
    "\n",
    "# Temperatur in 5 Bins einteilen\n",
    "umsatz_gesamt['Temp_Bin'] = pd.cut(umsatz_gesamt['Temperatur'], bins=5, labels=False)\n",
    "\n",
    "# Fit des linearen Modells mit den Temperatur-Bins\n",
    "mod = smf.ols('Umsatz ~ Temp_Bin', data=umsatz_gesamt).fit()\n",
    "\n",
    "# Ergebnis der Regression ausgeben\n",
    "print(mod.summary())\n"
   ]
  }
 ],
 "metadata": {
  "kernelspec": {
   "display_name": "Python 3",
   "language": "python",
   "name": "python3"
  },
  "language_info": {
   "codemirror_mode": {
    "name": "ipython",
    "version": 3
   },
   "file_extension": ".py",
   "mimetype": "text/x-python",
   "name": "python",
   "nbconvert_exporter": "python",
   "pygments_lexer": "ipython3",
   "version": "3.12.1"
  }
 },
 "nbformat": 4,
 "nbformat_minor": 2
}
